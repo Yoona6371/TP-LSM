{
 "cells": [
  {
   "cell_type": "code",
   "execution_count": 1,
   "metadata": {},
   "outputs": [],
   "source": [
    "from thop import profile\n",
    "import torch\n",
    "from nets.TPLSM import TPLSM"
   ]
  },
  {
   "cell_type": "code",
   "execution_count": 3,
   "metadata": {},
   "outputs": [],
   "source": [
    "num_clips = int(128)\n",
    "# C\n",
    "num_classes = 65\n",
    "# D = 256, gamma = 1.5 \n",
    "# inter_channels = [896, 768, 640, 512]\n",
    "inter_channels=[864, 576, 384, 256]\n",
    "\n",
    "s_size = [128, 128, 64, 64]\n",
    "# B\n",
    "num_block = 2\n",
    "# theta\n",
    "mlp_ratio = 6\n",
    "# D_0\n",
    "in_feat_dim = 1024\n",
    "# D_v\n",
    "final_embedding_dim = 512\n",
    "\n",
    "rgb_model = TPLSM(inter_channels, s_size, num_block, mlp_ratio, in_feat_dim, final_embedding_dim, num_classes)\n"
   ]
  },
  {
   "cell_type": "code",
   "execution_count": 4,
   "metadata": {},
   "outputs": [],
   "source": [
    "device = torch.device(\"cuda:0\" if torch.cuda.is_available() else \"cpu\")"
   ]
  },
  {
   "cell_type": "code",
   "execution_count": 5,
   "metadata": {},
   "outputs": [
    {
     "name": "stdout",
     "output_type": "stream",
     "text": [
      "[INFO] Register zero_ops() for <class 'torch.nn.modules.dropout.Dropout'>.\n",
      "[INFO] Register count_convNd() for <class 'torch.nn.modules.conv.Conv1d'>.\n",
      "[INFO] Register zero_ops() for <class 'torch.nn.modules.pooling.MaxPool1d'>.\n",
      "[INFO] Register count_normalization() for <class 'torch.nn.modules.normalization.LayerNorm'>.\n",
      "[INFO] Register count_linear() for <class 'torch.nn.modules.linear.Linear'>.\n",
      "[INFO] Register count_convNd() for <class 'torch.nn.modules.conv.Conv2d'>.\n"
     ]
    }
   ],
   "source": [
    "input = torch.zeros((1,1024, 128)).to(device)\n",
    "label = torch.zeros((1,128,65)).to(device)\n",
    "flops, params = profile(rgb_model.to(device), inputs=(input, label))"
   ]
  },
  {
   "cell_type": "code",
   "execution_count": 6,
   "metadata": {},
   "outputs": [
    {
     "name": "stdout",
     "output_type": "stream",
     "text": [
      "FLOPs = 5.863702528G\n"
     ]
    }
   ],
   "source": [
    "print('FLOPs = ' + str(flops/1000**3) + 'G')"
   ]
  },
  {
   "cell_type": "code",
   "execution_count": null,
   "metadata": {},
   "outputs": [],
   "source": []
  }
 ],
 "metadata": {
  "kernelspec": {
   "display_name": "yolo",
   "language": "python",
   "name": "python3"
  },
  "language_info": {
   "codemirror_mode": {
    "name": "ipython",
    "version": 3
   },
   "file_extension": ".py",
   "mimetype": "text/x-python",
   "name": "python",
   "nbconvert_exporter": "python",
   "pygments_lexer": "ipython3",
   "version": "3.8.13"
  },
  "orig_nbformat": 4
 },
 "nbformat": 4,
 "nbformat_minor": 2
}
